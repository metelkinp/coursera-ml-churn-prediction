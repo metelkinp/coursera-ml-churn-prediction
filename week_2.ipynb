{
  "cells": [
    {
      "cell_type": "code",
      "execution_count": 1,
      "metadata": {
        "pycharm": {
          "is_executing": false
        }
      },
      "outputs": [],
      "source": [
        "import pandas as pd\n",
        "from sklearn.model_selection import train_test_split"
      ]
    },
    {
      "cell_type": "code",
      "execution_count": 2,
      "metadata": {
        "pycharm": {
          "name": "#%%\n",
          "is_executing": false
        }
      },
      "outputs": [],
      "source": [
        "# (Optional) Read from the file\n",
        "df \u003d pd.read_csv(\u0027train_data/churn_train_data.csv\u0027)"
      ]
    },
    {
      "cell_type": "code",
      "execution_count": 3,
      "metadata": {
        "pycharm": {
          "name": "#%%\n",
          "is_executing": false
        }
      },
      "outputs": [],
      "source": [
        "# Split columns\n",
        "\n",
        "num_features \u003d df.columns[:190]\n",
        "cat_features \u003d df.columns[190:-1]"
      ]
    },
    {
      "cell_type": "code",
      "execution_count": 28,
      "metadata": {
        "pycharm": {
          "name": "#%%\n"
        }
      },
      "outputs": [],
      "source": [
        "# Clear data\n",
        "df \u003d df.dropna(axis\u003d0, how\u003d\u0027all\u0027, subset\u003ddf.columns[:-1])\n",
        "df \u003d df.dropna(axis\u003d1, how\u003d\u0027all\u0027)\n",
        "df[\u0027churn\u0027] \u003d df.churn.apply(lambda x: int(x \u003e 0))\n",
        "\n",
        "num_features \u003d num_features.intersection(df.columns)\n",
        "cat_features \u003d cat_features.intersection(df.columns)"
      ]
    },
    {
      "cell_type": "code",
      "execution_count": 43,
      "metadata": {
        "pycharm": {}
      },
      "outputs": [
        {
          "name": "stdout",
          "output_type": "stream",
          "text": [
            "Constant numeric:  1\n",
            "Constant categorial:  4\n"
          ]
        }
      ],
      "source": [
        "# Remove constants\n",
        "const_numeric \u003d [col for col in num_features.values if len(df[col].dropna().unique()) \u003d\u003d 1]\n",
        "const_cats \u003d [col for col in cat_features.values if len(df[col].dropna().unique()) \u003d\u003d 1]\n",
        "\n",
        "print(\u0027Constant numeric: \u0027, len(const_numeric))\n",
        "print(\u0027Constant categorial: \u0027, len(const_cats))\n"
      ]
    },
    {
      "cell_type": "code",
      "execution_count": 53,
      "metadata": {
        "pycharm": {}
      },
      "outputs": [
        {
          "name": "stdout",
          "output_type": "stream",
          "text": [
            "Var118 1 9 2967\n",
            "Var118 0 131 36893\n",
            "Var191 1 43 2933\n",
            "Var191 0 828 36196\n",
            "Var213 1 41 2935\n",
            "Var213 0 849 36175\n",
            "Var215 1 35 2941\n",
            "Var215 0 528 36496\n",
            "Var224 1 37 2939\n",
            "Var224 0 625 36399\n"
          ]
        }
      ],
      "source": [
        "for col in const_numeric + const_cats:\n",
        "    tmp_1 \u003d df[col][df.churn\u003d\u003d1]\n",
        "    tmp_0 \u003d df[col][df.churn\u003d\u003d0]\n",
        "    \n",
        "    print(col, \u00271\u0027, len(tmp_1.dropna()), len(tmp_1[tmp_1.isna()]))\n",
        "    print(col, \u00270\u0027, len(tmp_0.dropna()), len(tmp_0[tmp_0.isna()]))"
      ]
    },
    {
      "cell_type": "code",
      "execution_count": 54,
      "metadata": {
        "pycharm": {
          "name": "#%%\n"
        }
      },
      "outputs": [],
      "source": [
        "with open(\u0027train_data/prepared_data.csv\u0027, \u0027w\u0027) as fout:\n",
        "    fout.write(\u0027,\u0027.join(num_features.values) + \u0027\\n\u0027)\n",
        "    fout.write(\u0027,\u0027.join(cat_features.values) + \u0027\\n\u0027)\n",
        "    \n",
        "    df.to_csv(path_or_buf\u003dfout, index\u003dFalse)"
      ]
    },
    {
      "cell_type": "code",
      "execution_count": 4,
      "metadata": {
        "pycharm": {
          "is_executing": false
        }
      },
      "outputs": [
        {
          "name": "stdout",
          "text": [
            "190 40\n"
          ],
          "output_type": "stream"
        }
      ],
      "source": [
        "print(len(num_features), len(cat_features))"
      ]
    },
    {
      "cell_type": "code",
      "execution_count": 5,
      "metadata": {
        "pycharm": {
          "is_executing": false
        }
      },
      "outputs": [],
      "source": [
        "# split data\n",
        "X \u003d df[df.columns[:-1]]\n",
        "y \u003d df.churn\n",
        "\n",
        "X_train, X_test, y_train, y_test \u003d train_test_split(X, y, random_state\u003d42, stratify\u003dy, test_size\u003d0.25)"
      ]
    },
    {
      "cell_type": "code",
      "execution_count": 6,
      "metadata": {
        "pycharm": {
          "is_executing": false
        }
      },
      "outputs": [],
      "source": "# Write train\ndf_train \u003d X_train.copy()\ndf_train[\u0027churn\u0027] \u003d y_train\ndf_train.to_csv(path_or_buf\u003d\u0027train_data/main_train_set.csv\u0027, index\u003dFalse)\n\n# Write test\ndf_test \u003d X_test.copy()\ndf_test[\u0027churn\u0027] \u003d y_test\ndf_test.to_csv(path_or_buf\u003d\u0027train_data/main_hold_out_set.csv\u0027, index\u003dFalse)"
    },
    {
      "cell_type": "code",
      "execution_count": 7,
      "metadata": {
        "pycharm": {
          "is_executing": false
        }
      },
      "outputs": [
        {
          "data": {
            "text/plain": "-1    0.9256\n 1    0.0744\nName: churn, dtype: float64"
          },
          "metadata": {},
          "output_type": "execute_result",
          "execution_count": 7
        }
      ],
      "source": [
        "df_test.churn.value_counts() / len(df_test)"
      ]
    },
    {
      "cell_type": "code",
      "execution_count": 8,
      "metadata": {
        "pycharm": {
          "is_executing": false
        }
      },
      "outputs": [
        {
          "data": {
            "text/plain": "-1    0.9256\n 1    0.0744\nName: churn, dtype: float64"
          },
          "metadata": {},
          "output_type": "execute_result",
          "execution_count": 8
        }
      ],
      "source": [
        "df_train.churn.value_counts() / len(df_train)"
      ]
    },
    {
      "cell_type": "code",
      "execution_count": null,
      "metadata": {
        "pycharm": {}
      },
      "outputs": [],
      "source": []
    }
  ],
  "metadata": {
    "kernelspec": {
      "display_name": "Python 3",
      "language": "python",
      "name": "python3"
    },
    "language_info": {
      "codemirror_mode": {
        "name": "ipython",
        "version": 3
      },
      "file_extension": ".py",
      "mimetype": "text/x-python",
      "name": "python",
      "nbconvert_exporter": "python",
      "pygments_lexer": "ipython3",
      "version": "3.6.8"
    },
    "pycharm": {
      "stem_cell": {
        "cell_type": "raw",
        "metadata": {
          "collapsed": false
        },
        "source": []
      }
    }
  },
  "nbformat": 4,
  "nbformat_minor": 1
}