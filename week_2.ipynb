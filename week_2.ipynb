{
 "cells": [
  {
   "cell_type": "code",
   "execution_count": 1,
   "metadata": {},
   "outputs": [],
   "source": [
    "import pandas as pd\n",
    "from sklearn.model_selection import train_test_split"
   ]
  },
  {
   "cell_type": "code",
   "execution_count": 2,
   "metadata": {
    "pycharm": {
     "name": "#%%\n"
    }
   },
   "outputs": [],
   "source": [
    "# (Optional) Read from the file\n",
    "df = pd.read_csv('train_data/churn_train_data.csv')"
   ]
  },
  {
   "cell_type": "code",
   "execution_count": 3,
   "metadata": {
    "pycharm": {
     "name": "#%%\n"
    }
   },
   "outputs": [],
   "source": [
    "# Split columns\n",
    "\n",
    "num_features = df.columns[:190]\n",
    "cat_features = df.columns[190:-1]"
   ]
  },
  {
   "cell_type": "code",
   "execution_count": 28,
   "metadata": {
    "pycharm": {
     "name": "#%%\n"
    }
   },
   "outputs": [],
   "source": [
    "# Clear data\n",
    "df = df.dropna(axis=0, how='all', subset=df.columns[:-1])\n",
    "df = df.dropna(axis=1, how='all')\n",
    "df['churn'] = df.churn.apply(lambda x: int(x > 0))\n",
    "\n",
    "num_features = num_features.intersection(df.columns)\n",
    "cat_features = cat_features.intersection(df.columns)"
   ]
  },
  {
   "cell_type": "code",
   "execution_count": 43,
   "metadata": {},
   "outputs": [
    {
     "name": "stdout",
     "output_type": "stream",
     "text": [
      "Constant numeric:  1\n",
      "Constant categorial:  4\n"
     ]
    }
   ],
   "source": [
    "# Remove constants\n",
    "const_numeric = [col for col in num_features.values if len(df[col].dropna().unique()) == 1]\n",
    "const_cats = [col for col in cat_features.values if len(df[col].dropna().unique()) == 1]\n",
    "\n",
    "print('Constant numeric: ', len(const_numeric))\n",
    "print('Constant categorial: ', len(const_cats))\n"
   ]
  },
  {
   "cell_type": "code",
   "execution_count": 53,
   "metadata": {},
   "outputs": [
    {
     "name": "stdout",
     "output_type": "stream",
     "text": [
      "Var118 1 9 2967\n",
      "Var118 0 131 36893\n",
      "Var191 1 43 2933\n",
      "Var191 0 828 36196\n",
      "Var213 1 41 2935\n",
      "Var213 0 849 36175\n",
      "Var215 1 35 2941\n",
      "Var215 0 528 36496\n",
      "Var224 1 37 2939\n",
      "Var224 0 625 36399\n"
     ]
    }
   ],
   "source": [
    "for col in const_numeric + const_cats:\n",
    "    tmp_1 = df[col][df.churn==1]\n",
    "    tmp_0 = df[col][df.churn==0]\n",
    "    \n",
    "    print(col, '1', len(tmp_1.dropna()), len(tmp_1[tmp_1.isna()]))\n",
    "    print(col, '0', len(tmp_0.dropna()), len(tmp_0[tmp_0.isna()]))"
   ]
  },
  {
   "cell_type": "code",
   "execution_count": 54,
   "metadata": {
    "pycharm": {
     "name": "#%%\n"
    }
   },
   "outputs": [],
   "source": [
    "with open('train_data/prepared_data.csv', 'w') as fout:\n",
    "    fout.write(','.join(num_features.values) + '\\n')\n",
    "    fout.write(','.join(cat_features.values) + '\\n')\n",
    "    \n",
    "    df.to_csv(path_or_buf=fout, index=False)"
   ]
  },
  {
   "cell_type": "code",
   "execution_count": 55,
   "metadata": {},
   "outputs": [
    {
     "name": "stdout",
     "output_type": "stream",
     "text": [
      "174 38\n"
     ]
    }
   ],
   "source": [
    "print(len(num_features), len(cat_features))"
   ]
  },
  {
   "cell_type": "code",
   "execution_count": 61,
   "metadata": {},
   "outputs": [],
   "source": [
    "# split data\n",
    "X = df[df.columns[:-1]]\n",
    "y = df.churn\n",
    "\n",
    "X_train, X_test, y_train, y_test = train_test_split(X, y, random_state=42, stratify=y, test_size=0.25)"
   ]
  },
  {
   "cell_type": "code",
   "execution_count": 80,
   "metadata": {},
   "outputs": [],
   "source": [
    "# Write train\n",
    "df_train = X_train.copy()\n",
    "df_train['churn'] = y_train\n",
    "df_train.to_csv(path_or_buf='train_data/train_set.csv', index=False)\n",
    "\n",
    "# Write test\n",
    "df_test = X_test.copy()\n",
    "df_test['churn'] = y_test\n",
    "df_test.to_csv(path_or_buf='train_data/hold_out_set.csv', index=False)"
   ]
  },
  {
   "cell_type": "code",
   "execution_count": 81,
   "metadata": {},
   "outputs": [
    {
     "data": {
      "text/plain": [
       "0    0.9256\n",
       "1    0.0744\n",
       "Name: churn, dtype: float64"
      ]
     },
     "execution_count": 81,
     "metadata": {},
     "output_type": "execute_result"
    }
   ],
   "source": [
    "df_test.churn.value_counts() / len(df_test)"
   ]
  },
  {
   "cell_type": "code",
   "execution_count": 82,
   "metadata": {},
   "outputs": [
    {
     "data": {
      "text/plain": [
       "0    0.9256\n",
       "1    0.0744\n",
       "Name: churn, dtype: float64"
      ]
     },
     "execution_count": 82,
     "metadata": {},
     "output_type": "execute_result"
    }
   ],
   "source": [
    "df_train.churn.value_counts() / len(df_train)"
   ]
  },
  {
   "cell_type": "code",
   "execution_count": null,
   "metadata": {},
   "outputs": [],
   "source": []
  }
 ],
 "metadata": {
  "kernelspec": {
   "display_name": "Python 3",
   "language": "python",
   "name": "python3"
  },
  "language_info": {
   "codemirror_mode": {
    "name": "ipython",
    "version": 3
   },
   "file_extension": ".py",
   "mimetype": "text/x-python",
   "name": "python",
   "nbconvert_exporter": "python",
   "pygments_lexer": "ipython3",
   "version": "3.6.8"
  },
  "pycharm": {
   "stem_cell": {
    "cell_type": "raw",
    "metadata": {
     "collapsed": false
    },
    "source": []
   }
  }
 },
 "nbformat": 4,
 "nbformat_minor": 1
}
